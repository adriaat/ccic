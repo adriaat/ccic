{
 "cells": [
  {
   "cell_type": "markdown",
   "id": "0c737fba",
   "metadata": {},
   "source": [
    "# Cyclone Nanmadol\n",
    "\n"
   ]
  },
  {
   "cell_type": "code",
   "execution_count": null,
   "id": "eaa1f5ea",
   "metadata": {},
   "outputs": [],
   "source": [
    "%load_ext autoreload\n",
    "%autoreload 2\n",
    "import matplotlib.pyplot as plt\n",
    "import numpy as np\n",
    "import ccic\n",
    "import xarray as xr"
   ]
  },
  {
   "cell_type": "markdown",
   "id": "e40386af",
   "metadata": {},
   "source": [
    "## Define area and create surface data"
   ]
  },
  {
   "cell_type": "code",
   "execution_count": null,
   "id": "56ecfe8f",
   "metadata": {},
   "outputs": [],
   "source": [
    "from pathlib import Path\n",
    "cpcir_files = sorted(list(Path(\"/home/simonpf/data_3/ccic/results/nanmadol/\").glob(\"*.nc\")))\n",
    "cpcir_data = xr.open_mfdataset(cpcir_files)"
   ]
  },
  {
   "cell_type": "code",
   "execution_count": null,
   "id": "cbf3615f",
   "metadata": {},
   "outputs": [],
   "source": [
    "cpcir_data = xr.load_dataset(\"/home/simonpf/data_3/ccic/results/nanmadol/ccic_cpcir_202209171200.nc\")"
   ]
  },
  {
   "cell_type": "code",
   "execution_count": null,
   "id": "aeed1b98",
   "metadata": {},
   "outputs": [],
   "source": []
  },
  {
   "cell_type": "code",
   "execution_count": null,
   "id": "04f4fc03",
   "metadata": {},
   "outputs": [],
   "source": [
    "cpcir_data = cpcir_data[{\"latitude\": slice(0, -100)}]"
   ]
  },
  {
   "cell_type": "code",
   "execution_count": null,
   "id": "0b9f4936",
   "metadata": {},
   "outputs": [],
   "source": [
    "lon_min = cpcir_data.longitude.data.min()\n",
    "lon_max = cpcir_data.longitude.data.max()\n",
    "lat_min = cpcir_data.latitude.data.min()\n",
    "lat_max = cpcir_data.latitude.data.max()"
   ]
  },
  {
   "cell_type": "code",
   "execution_count": null,
   "id": "0d00ebc2",
   "metadata": {},
   "outputs": [],
   "source": [
    "from pyresample import create_area_def\n",
    "area = create_area_def(\n",
    "    \"pacific north-west\",\n",
    "    {\"proj\": \"longlat\", \"datum\": \"WGS84\"},\n",
    "    area_extent=[lon_min, lat_min, lon_max, lat_max],\n",
    "    resolution=0.01,\n",
    "    units=\"degrees\"\n",
    ")\n",
    "\n",
    "lons, lats = area.get_lonlats()\n",
    "lons = lons[0]\n",
    "lats = lats[:, 0]\n",
    "\n",
    "with xr.open_dataset(\"/home/simonpf/data/etopo/globe_1.nc\") as data:\n",
    "    elev = data.interp(latitude=lats, longitude=lons)"
   ]
  },
  {
   "cell_type": "code",
   "execution_count": null,
   "id": "e27e8db2",
   "metadata": {},
   "outputs": [],
   "source": [
    "cpcir_data = cpcir_data.interp(latitude=lats, longitude=lons)"
   ]
  },
  {
   "cell_type": "code",
   "execution_count": null,
   "id": "418a549b",
   "metadata": {},
   "outputs": [],
   "source": [
    "cpcir_data[\"elevation\"] = ((\"latitude\", \"longitude\"), elev.elevation.data)"
   ]
  },
  {
   "cell_type": "code",
   "execution_count": null,
   "id": "daf504f4",
   "metadata": {},
   "outputs": [],
   "source": [
    "from PIL import Image\n",
    "bm = np.array(Image.open(\"/home/simonpf/data/natural_earth/blue_marble_sep.jpg\"))\n",
    "bm_area = create_area_def(\n",
    "    \"Blue marble\",\n",
    "    {\"proj\": \"longlat\", \"datum\": \"WGS84\"},\n",
    "    area_extent=[-180, -90, 180, 90],\n",
    "    shape=bm.shape[:2]\n",
    ")"
   ]
  },
  {
   "cell_type": "code",
   "execution_count": null,
   "id": "bded2748",
   "metadata": {},
   "outputs": [],
   "source": [
    "from pyresample.kd_tree import resample_nearest\n",
    "bm_r = resample_nearest(\n",
    "    bm_area,\n",
    "    bm,\n",
    "    area,\n",
    "    radius_of_influence=10e3\n",
    ")"
   ]
  },
  {
   "cell_type": "code",
   "execution_count": null,
   "id": "c45e67c6",
   "metadata": {},
   "outputs": [],
   "source": [
    "cpcir_data[\"texture\"] = ((\"latitude\", \"longitude\", \"channels\"), bm_r)\n",
    "plt.imshow(bm_r)"
   ]
  },
  {
   "cell_type": "markdown",
   "id": "6ac9a8e6",
   "metadata": {},
   "source": [
    "## Add contours to background"
   ]
  },
  {
   "cell_type": "code",
   "execution_count": null,
   "id": "a787e1c0",
   "metadata": {},
   "outputs": [],
   "source": [
    "import cmocean\n",
    "from matplotlib.colors import BoundaryNorm, NoNorm, ListedColormap\n",
    "from matplotlib import colormaps\n",
    "from matplotlib.cm import ScalarMappable\n",
    "\n",
    "cmap = colormaps[\"cmo.dense\"]\n",
    "colors = cmap(np.linspace(0, 1, 22))\n",
    "colors[0, -1] = 0.0\n",
    "norm = BoundaryNorm(np.logspace(-2, 1, 21), 21)\n",
    "cinds = norm(cpcir_data.tiwp.data[0])\n",
    "\n",
    "tiwp_rgb = colors[cinds.ravel()].reshape(cinds.shape + (4,))\n",
    "mask = cinds > 0\n",
    "bm_cntrs = np.concatenate((bm_r, 255 * np.ones(bm_r[..., [0]].shape, dtype=\"uint8\")), -1)\n",
    "bm_cntrs[mask] = 255 * tiwp_rgb[mask]"
   ]
  },
  {
   "cell_type": "code",
   "execution_count": null,
   "id": "79f7211e",
   "metadata": {},
   "outputs": [],
   "source": [
    "plt.pcolormesh(bm_cntrs)"
   ]
  },
  {
   "cell_type": "markdown",
   "id": "170b3a98",
   "metadata": {},
   "source": [
    "## Plotting functionality"
   ]
  },
  {
   "cell_type": "code",
   "execution_count": null,
   "id": "bc8d98f3",
   "metadata": {},
   "outputs": [],
   "source": [
    "import pyvista as pv\n",
    "#pv.start_xvfb()\n",
    "#pv.global_theme.trame.server_proxy_enabled = True\n",
    "#pv.global_theme.trame.server_proxy_prefix = \"/proxy/\""
   ]
  },
  {
   "cell_type": "code",
   "execution_count": null,
   "id": "6ed297a4",
   "metadata": {},
   "outputs": [],
   "source": [
    "import cmocean\n",
    "from scipy.signal import convolve\n",
    "from matplotlib.cm import get_cmap, ScalarMappable\n",
    "from matplotlib.colors import BoundaryNorm, LogNorm\n",
    "import pyvista as pv\n",
    "\n",
    "LEVELS = np.logspace(-3, np.log10(1), 11)\n",
    "#LEVELS = np.linspace(0, 1, 11)[1:]\n",
    "CMAP = get_cmap(\"cmo.dense\").copy()\n",
    "CMAP.set_under(\"#FFFFFF88\")\n",
    "NORM = BoundaryNorm(LEVELS, CMAP.N)\n",
    "MAPPABLE = ScalarMappable(norm=NORM, cmap=CMAP)\n",
    "lt = pv.LookupTable(\n",
    "    \"cmo.dense\",\n",
    "    scalar_range=(1e-3, 1e0),\n",
    "    log_scale=True\n",
    ")\n",
    "\n",
    "\n",
    "def iwc_contours(data):\n",
    "    x = data.longitude.data.astype(np.float32)\n",
    "    y = data.latitude.data.astype(np.float32)\n",
    "    \n",
    "    elev = data.elevation.interp(\n",
    "        latitude=data.latitude,\n",
    "        longitude=data.longitude,\n",
    "        method=\"nearest\",\n",
    "        kwargs={\"fill_value\": \"extrapolate\"}\n",
    "    ).data\n",
    "    \n",
    "    k = np.ones((8, 8))\n",
    "    elev_sum = convolve(elev, k, \"same\")\n",
    "    elev_cts = convolve(np.ones_like(elev), k, \"same\")\n",
    "    elev = elev_sum / elev_cts\n",
    "    \n",
    "    z = elev[:, :, None] + data.altitude.data[None, None, :]\n",
    "    \n",
    "    x, y, _ = np.meshgrid(x, y, data.altitude.data / 1e3)\n",
    "    grid = pv.StructuredGrid(x, y, z / 1e3)\n",
    "    grid[\"IWC [g / m^3]\"] = data.tiwc.data.flatten(order=\"f\")\n",
    "    \n",
    "    cts = grid.contour(LEVELS)\n",
    "    cts[\"iwc_opc\"] = LogNorm(1e-3, 1e-1)(cts[\"IWC [g / m^3]\"], clip=True)\n",
    "    colors = MAPPABLE.to_rgba(LEVELS)\n",
    "    colors[:, -1] = np.linspace(0.1, 1.0, colors.shape[0])\n",
    "    return cts, colors\n",
    "    "
   ]
  },
  {
   "cell_type": "code",
   "execution_count": null,
   "id": "1552ae59",
   "metadata": {},
   "outputs": [],
   "source": [
    "def iwc_volume(data):\n",
    "    \n",
    "    x = data.longitude.data.astype(np.float32)\n",
    "    y = data.latitude.data.astype(np.float32)\n",
    "    z = data.altitude.data.astype(np.float32) / 1e3\n",
    "    dx = x[1] - x[0]\n",
    "    dy = y[0] - y[1]\n",
    "    dz = z[1] - z[0]\n",
    "    \n",
    "    ug = pv.UniformGrid(\n",
    "        dimensions=(x.size, y.size, z.size),\n",
    "        spacing=(dx, dy, dz),\n",
    "        origin=(x[0], y[-1], z[0])\n",
    "    )\n",
    "    print(x[0], y[-1], z[0])   \n",
    "    tiwc = np.transpose(np.flip(data.tiwc.data[0], 0), [1, 0, 2])\n",
    "    tiwc = np.log10(np.maximum(tiwc, 1e-4))\n",
    "    print(tiwc.size, x.size * y.size * z.size)\n",
    "    ug[\"TIWC [kg / m^3]\"] = tiwc.flatten(order=\"f\")\n",
    "    return ug\n"
   ]
  },
  {
   "cell_type": "code",
   "execution_count": null,
   "id": "6491578f",
   "metadata": {},
   "outputs": [],
   "source": [
    "def surface(data):\n",
    "    lats = data.latitude.data\n",
    "    lons = data.longitude.data\n",
    "    z = data.elevation.data / 1e3\n",
    "    x, y = np.meshgrid(lons, lats)\n",
    "    grid = pv.StructuredGrid(x, y, z)\n",
    "    grid.texture_map_to_plane(\n",
    "        inplace=True,\n",
    "        origin=[lon_min, lat_min, 0],\n",
    "        point_u=[lon_max, lat_min, 0],\n",
    "        point_v=[lon_min, lat_max, 0],\n",
    "    )\n",
    "    txt = pv.numpy_to_texture(np.copy(data.texture.data, order=\"f\"))\n",
    "    return grid, txt"
   ]
  },
  {
   "cell_type": "code",
   "execution_count": null,
   "id": "43050eed",
   "metadata": {},
   "outputs": [],
   "source": [
    "def setup_camera(scene):\n",
    "    scene.camera_position = 'xz'\n",
    "    scene.camera.elevation = 25\n",
    "    scene.camera.zoom(1.5)\n",
    "    scene.azimuth = 0"
   ]
  },
  {
   "cell_type": "code",
   "execution_count": null,
   "id": "5a4f74a9",
   "metadata": {},
   "outputs": [],
   "source": [
    "from pansat.time import to_datetime64\n",
    "iwc, colors = iwc_contours(cpcir_data[{\"time\": 0}].compute())"
   ]
  },
  {
   "cell_type": "code",
   "execution_count": null,
   "id": "279a5ddb",
   "metadata": {},
   "outputs": [],
   "source": [
    "from pansat.time import to_datetime64\n",
    "iwc, colors = iwc_contours(cpcir_data[{\"time\": 0, \"latitude\": slice(0, 375 * 2)}])"
   ]
  },
  {
   "cell_type": "code",
   "execution_count": null,
   "id": "b4e81c7a",
   "metadata": {},
   "outputs": [],
   "source": [
    "iwc, colors = iwc_contours(cpcir_data[{\"time\": 0}])"
   ]
  },
  {
   "cell_type": "code",
   "execution_count": null,
   "id": "c321b2f1",
   "metadata": {},
   "outputs": [],
   "source": [
    "cpcir_data[\"texture\"] = ((\"latitude\", \"longitude\", \"channels\"), bm_r)"
   ]
  },
  {
   "cell_type": "code",
   "execution_count": null,
   "id": "d214a279",
   "metadata": {},
   "outputs": [],
   "source": [
    "sfc, txt = surface(cpcir_data)"
   ]
  },
  {
   "cell_type": "code",
   "execution_count": null,
   "id": "800c9e90",
   "metadata": {},
   "outputs": [],
   "source": [
    "pv.set_plot_theme(\"document\")\n",
    "pv.set_jupyter_backend('static')"
   ]
  },
  {
   "cell_type": "code",
   "execution_count": null,
   "id": "4605c6e9",
   "metadata": {},
   "outputs": [],
   "source": [
    "from matplotlib.colors import to_hex\n",
    "scene = pv.Plotter(multi_samples=128, window_size=(1200, 600), line_smoothing=True, polygon_smoothing=True, point_smoothing=True)\n",
    "scene.set_background(\"white\")\n",
    "scene.add_mesh(sfc, texture=txt);\n",
    "#iwc_mesh = scene.add_mesh(iwc_clipped, scalars=\"IWC [g / m^3]\", cmap=[to_hex(c) for c in colors], ambient=0.2, opacity=\"opacity\", use_transparency=True);"
   ]
  },
  {
   "cell_type": "code",
   "execution_count": null,
   "id": "28c7d377",
   "metadata": {},
   "outputs": [],
   "source": [
    "scene.enable_depth_peeling()"
   ]
  },
  {
   "cell_type": "code",
   "execution_count": null,
   "id": "05631bc9",
   "metadata": {},
   "outputs": [],
   "source": [
    "scene.show_bounds(\n",
    "    grid='back',\n",
    "    location='outer',\n",
    "    ticks='both',\n",
    "    xlabel='Longitude [deg W]',\n",
    "    ylabel='Latitude [deg N]',\n",
    "    zlabel='Elevation [km]',\n",
    "    font_size=8,\n",
    "    axes_ranges=[lon_min, lon_max, lat_min, lat_max, 0, 20],\n",
    "    bold=False\n",
    ")"
   ]
  },
  {
   "cell_type": "code",
   "execution_count": null,
   "id": "83aff9f4",
   "metadata": {},
   "outputs": [],
   "source": [
    "scene.enable_depth_peeling()"
   ]
  },
  {
   "cell_type": "code",
   "execution_count": null,
   "id": "223ab5a7",
   "metadata": {},
   "outputs": [],
   "source": [
    "lat_t = lats[375 * 2]"
   ]
  },
  {
   "cell_type": "code",
   "execution_count": null,
   "id": "cae83a3e",
   "metadata": {},
   "outputs": [],
   "source": [
    "scene.add_lines(\n",
    "    np.array([\n",
    "        [lon_min, lat_t, 0.1],\n",
    "        [lon_max, lat_t, 0.1]\n",
    "    ]),\n",
    "    color=\"grey\"\n",
    ")\n",
    "scene.add_lines(\n",
    "    np.array([\n",
    "        [lon_min, lat_t, 20],\n",
    "        [lon_max, lat_t, 20]\n",
    "    ]),\n",
    "    color=\"grey\"\n",
    "    \n",
    ");"
   ]
  },
  {
   "cell_type": "code",
   "execution_count": null,
   "id": "b9eee42a",
   "metadata": {},
   "outputs": [],
   "source": [
    "from matplotlib.colors import to_hex\n",
    "sargs = {\n",
    "    \"vertical\": True,\n",
    "    \"position_x\": 0.9,\n",
    "    \"position_y\": 0.3\n",
    "}\n",
    "mesh = scene.add_mesh(\n",
    "    iwc.copy(),\n",
    "    scalars=\"IWC [g / m^3]\",\n",
    "    opacity=\"iwc_opc\",\n",
    "    cmap=\"dense\",\n",
    "    ambient=0.2,\n",
    "    specular=0.5,\n",
    "    scalar_bar_args=sargs\n",
    ")"
   ]
  },
  {
   "cell_type": "code",
   "execution_count": null,
   "id": "0c5d0772",
   "metadata": {},
   "outputs": [],
   "source": [
    "scene.set_scale(zscale=0.2)"
   ]
  },
  {
   "cell_type": "code",
   "execution_count": null,
   "id": "aed7d951",
   "metadata": {},
   "outputs": [],
   "source": [
    "setup_camera(scene)"
   ]
  },
  {
   "cell_type": "code",
   "execution_count": null,
   "id": "5c43ce2c",
   "metadata": {},
   "outputs": [],
   "source": [
    "scene.remove_actor(mesh)"
   ]
  },
  {
   "cell_type": "code",
   "execution_count": null,
   "id": "eaf1619c",
   "metadata": {
    "scrolled": false
   },
   "outputs": [],
   "source": [
    "scene.show()"
   ]
  },
  {
   "cell_type": "code",
   "execution_count": null,
   "id": "97c70856",
   "metadata": {},
   "outputs": [],
   "source": [
    "def rotate(scene, angle):\n",
    "    scene.camera_position = 'xz'\n",
    "    scene.camera.elevation = 25\n",
    "    scene.camera.zoom(1.5)\n",
    "    scene.camera.azimuth = angle"
   ]
  },
  {
   "cell_type": "code",
   "execution_count": null,
   "id": "c7789821",
   "metadata": {},
   "outputs": [],
   "source": [
    "scene.open_movie(\"nanmadol_rotation_2.mp4\")"
   ]
  },
  {
   "cell_type": "code",
   "execution_count": null,
   "id": "4d651f79",
   "metadata": {},
   "outputs": [],
   "source": [
    "for ang in np.linspace(-90, 90, 360):\n",
    "    rotate(scene, ang)\n",
    "    scene.write_frame()\n",
    "    print(ang)"
   ]
  },
  {
   "cell_type": "code",
   "execution_count": null,
   "id": "0f06c4a8",
   "metadata": {},
   "outputs": [],
   "source": [
    "for ang in np.linspace(90, -90, 360):\n",
    "    rotate(scene, ang)\n",
    "    scene.write_frame()\n",
    "    print(ang)"
   ]
  },
  {
   "cell_type": "code",
   "execution_count": null,
   "id": "9ce2e085",
   "metadata": {},
   "outputs": [],
   "source": [
    "start_time = np.datetime64(\"2022-09-17T00:15:00\")\n",
    "end_time = np.datetime64(\"2022-09-17T12:00:00\")\n",
    "time_steps = np.arange(start_time, end_time, np.timedelta64(180, \"s\"))"
   ]
  },
  {
   "cell_type": "code",
   "execution_count": null,
   "id": "0228577b",
   "metadata": {},
   "outputs": [],
   "source": [
    "for time_step in time_steps:\n",
    "    scene.remove_actor(mesh)\n",
    "    iwc, colors = iwc_contours(cpcir_data.interp(time=time_step).compute())\n",
    "    mesh = scene.add_mesh(\n",
    "        iwc.copy(),\n",
    "        scalars=\"IWC [g / m^3]\",\n",
    "        opacity=\"iwc_opc\",\n",
    "        cmap=\"dense\",\n",
    "        ambient=0.2,\n",
    "        specular=0.5,\n",
    "        scalar_bar_args=sargs\n",
    "    )\n",
    "    scene.write_frame()\n",
    "    print(time_step)"
   ]
  },
  {
   "cell_type": "code",
   "execution_count": null,
   "id": "2aaf71c8",
   "metadata": {},
   "outputs": [],
   "source": [
    "scene.close()"
   ]
  }
 ],
 "metadata": {
  "kernelspec": {
   "display_name": "Python 3 (ipykernel)",
   "language": "python",
   "name": "python3"
  },
  "language_info": {
   "codemirror_mode": {
    "name": "ipython",
    "version": 3
   },
   "file_extension": ".py",
   "mimetype": "text/x-python",
   "name": "python",
   "nbconvert_exporter": "python",
   "pygments_lexer": "ipython3",
   "version": "3.10.9"
  }
 },
 "nbformat": 4,
 "nbformat_minor": 5
}
