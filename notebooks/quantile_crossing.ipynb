{
 "cells": [
  {
   "attachments": {},
   "cell_type": "markdown",
   "metadata": {},
   "source": [
    "# Quantile crossing"
   ]
  },
  {
   "cell_type": "code",
   "execution_count": null,
   "metadata": {},
   "outputs": [],
   "source": [
    "import pickle\n",
    "import os\n",
    "\n",
    "import cmocean\n",
    "import matplotlib\n",
    "import matplotlib.pyplot as plt\n",
    "import numpy as np\n",
    "import quantnn.quantiles as qq\n",
    "from scipy import stats\n",
    "from sklearn.isotonic import IsotonicRegression\n",
    "import xarray as xr\n",
    "\n",
    "plt.style.use('ccic.files.ccic')\n",
    "\n",
    "def isotonic_regression(quantile_levels, predicted_quantiles):\n",
    "    \"\"\"Returns isotonic quantiles\"\"\"\n",
    "    return IsotonicRegression(increasing=True, out_of_bounds='clip').fit(quantile_levels, predicted_quantiles).predict(quantile_levels)"
   ]
  },
  {
   "cell_type": "code",
   "execution_count": null,
   "metadata": {},
   "outputs": [],
   "source": [
    "# Load dataset\n",
    "if False:\n",
    "    ds = xr.open_dataset(os.path.join(os.environ['ANALYSES'], 'quantile_crossing/GridSat_training_data_June06.nc')).load()\n",
    "    ds['tiwp_distribution_isotonic'] = (ds.tiwp_distribution.dims, np.apply_along_axis(lambda x: isotonic_regression(ds.quantiles_tiwp.values, x), 1, ds.tiwp_distribution.values))\n",
    "    ds['tiwp_fpavg_distribution_isotonic'] = (ds.tiwp_fpavg_distribution.dims, np.apply_along_axis(lambda x: isotonic_regression(ds.quantiles_tiwp.values, x), 1, ds.tiwp_fpavg_distribution.values))\n",
    "    ds['tiwc_distribution_isotonic'] = (ds.tiwc_distribution.dims, np.apply_along_axis(lambda x: isotonic_regression(ds.quantiles_tiwc.values, x), 2, ds.tiwc_distribution.values))\n",
    "    ds.to_netcdf(os.path.join(os.environ['ANALYSES'], 'quantile_crossing/GridSat_training_data_June06_with_isotonic_regression.nc'))\n",
    "else:\n",
    "    ds = xr.open_dataset(os.path.join(os.environ['ANALYSES'], 'quantile_crossing/GridSat_training_data_June06_with_isotonic_regression.nc')).load()"
   ]
  },
  {
   "cell_type": "code",
   "execution_count": null,
   "metadata": {},
   "outputs": [],
   "source": [
    "# Compute spearman for tiwp and tiwc\n",
    "\n",
    "f_spearman_tiwp = lambda x: stats.spearmanr(x, ds.quantiles_tiwp, nan_policy='raise', alternative='two-sided')\n",
    "f_spearman_tiwc = lambda x: stats.spearmanr(x, ds.quantiles_tiwc, nan_policy='raise', alternative='two-sided')\n",
    "\n",
    "# If-else to compute or read from disk\n",
    "\n",
    "if False:\n",
    "    spearman_tiwp = np.apply_along_axis(f_spearman_tiwp, 1, ds.tiwp_distribution)\n",
    "    with open('spearman_tiwp.pickle', 'wb') as handle:\n",
    "        pickle.dump(spearman_tiwp, handle)\n",
    "else:\n",
    "    with open('spearman_tiwp.pickle', 'rb') as handle:\n",
    "        spearman_tiwp = pickle.load(handle)\n",
    "\n",
    "if False:\n",
    "    spearman_tiwp_fpavg = np.apply_along_axis(f_spearman_tiwp, 1, ds.tiwp_fpavg_distribution)\n",
    "    with open('spearman_tiwp_fpavg.pickle', 'wb') as handle:\n",
    "        pickle.dump(spearman_tiwp_fpavg, handle)\n",
    "else:\n",
    "    with open('spearman_tiwp_fpavg.pickle', 'rb') as handle:\n",
    "        spearman_tiwp_fpavg = pickle.load(handle)\n",
    "\n",
    "if False:\n",
    "    spearman_tiwc = np.apply_along_axis(f_spearman_tiwc, 2, ds.tiwc_distribution)\n",
    "    with open('spearman_tiwc.pickle', 'wb') as handle:\n",
    "        pickle.dump(spearman_tiwc, handle)\n",
    "else:\n",
    "    with open('spearman_tiwc.pickle', 'rb') as handle:\n",
    "        spearman_tiwc = pickle.load(handle)"
   ]
  },
  {
   "cell_type": "code",
   "execution_count": null,
   "metadata": {},
   "outputs": [],
   "source": [
    "print(\"Minimum $rho_S$\")\n",
    "print(\"  tiwp      :\", spearman_tiwp[:,0].min())\n",
    "print(\"  tiwp_fpavg:\", spearman_tiwp_fpavg[:,0].min())\n",
    "print(\"  tiwc      :\", spearman_tiwc[:,:,0].min())\n",
    "print(\"Maximum p-value\")\n",
    "print(\"  tiwp      :\", spearman_tiwp[:,1].max())\n",
    "print(\"  tiwp_fpavg:\", spearman_tiwp_fpavg[:,1].max())\n",
    "print(\"  tiwc      :\", spearman_tiwc[:,:,1].max())"
   ]
  },
  {
   "cell_type": "code",
   "execution_count": null,
   "metadata": {},
   "outputs": [],
   "source": [
    "print(\"Median rho_S for\")\n",
    "print(\"  tiwp      :\", np.median(spearman_tiwp[:,0].flatten()))\n",
    "print(\"  tiwp_fpavg:\", np.median(spearman_tiwp_fpavg[:,0].flatten()))\n",
    "print(\"  tiwc      :\", np.median(spearman_tiwc[:,:,0].flatten()))"
   ]
  },
  {
   "cell_type": "code",
   "execution_count": null,
   "metadata": {},
   "outputs": [],
   "source": [
    "print(\"Minimum $rho_S$ for TIWC per level\")\n",
    "for i in range(20):\n",
    "    print(f\"Level {i:02d}\", spearman_tiwc[:,i,0].min())"
   ]
  },
  {
   "cell_type": "code",
   "execution_count": null,
   "metadata": {},
   "outputs": [],
   "source": [
    "print(\"Maximum p-value for TIWC per level\")\n",
    "for i in range(20):\n",
    "    print(f\"Level {i:02d}\", spearman_tiwc[:,i,1].min())"
   ]
  },
  {
   "cell_type": "code",
   "execution_count": null,
   "metadata": {},
   "outputs": [],
   "source": [
    "bins = np.logspace(np.log10(0.8), np.log10(1), num=50)\n",
    "\n",
    "fig, ax = plt.subplots()\n",
    "\n",
    "histtype = 'bar'\n",
    "ax.hist(spearman_tiwp[:,0], bins=bins, density=True, histtype=histtype, label='tiwp')\n",
    "ax.hist(spearman_tiwp_fpavg[:,0], bins=bins, density=True, histtype=histtype, label='tiwp_fpavg')\n",
    "ax.hist(spearman_tiwc[:,:,0].flatten(), bins=bins, density=True, histtype=histtype, label='tiwc')\n",
    "\n",
    "ax.legend()\n",
    "ax.minorticks_on()\n",
    "ax.set_xscale('log')\n",
    "ax.set_xlabel('$\\\\rho_S$')\n",
    "ax.set_ylabel('PF')\n",
    "\n",
    "plt.show()"
   ]
  },
  {
   "cell_type": "code",
   "execution_count": null,
   "metadata": {},
   "outputs": [],
   "source": [
    "fig, ax = plt.subplots(figsize=(6/1.2, 4/1.2))\n",
    "\n",
    "ax_tiwp = ax\n",
    "ax_tiwc = ax.twiny()\n",
    "ax_tiwc.invert_xaxis()\n",
    "\n",
    "n = 1\n",
    "alpha = 0.3\n",
    "for label, array, ax_, color in zip(['tiwp', 'tiwc'], [spearman_tiwp, spearman_tiwc], [ax_tiwp, ax_tiwc], ['C0', 'C1']):\n",
    "    idxs = np.argsort(array[...,0].flatten())[:n]\n",
    "    quantile_levels = eval(f'ds.quantiles_{label[:4]}')\n",
    "    ds_distribution = eval(f'ds.{label}_distribution').values.reshape(-1, quantile_levels.size)\n",
    "    ds_distribution_isotonic = eval(f'ds.{label}_distribution_isotonic').values.reshape(-1, quantile_levels.size)\n",
    "\n",
    "    for idx in idxs:\n",
    "        qpd = ds_distribution[idx]\n",
    "        qpd_corrected = ds_distribution_isotonic[idx]\n",
    "        ax_.plot(qpd, quantile_levels, color=color)\n",
    "        ax_.plot(qpd_corrected, quantile_levels, color='k', ls='dotted')\n",
    "        ax_.scatter(qpd, quantile_levels, color=color, marker='x', alpha=alpha)\n",
    "        ax_.scatter(qpd_corrected, quantile_levels, color='k', marker='x', alpha=alpha)\n",
    "        mean_qpd = qq.posterior_mean(qpd, quantile_levels, quantile_axis=0)\n",
    "        mean_cqpd = qq.posterior_mean(qpd_corrected, quantile_levels, quantile_axis=0)\n",
    "        ax_.axvline(mean_qpd, color=color)\n",
    "        ax_.axvline(mean_cqpd, color='k', ls='dotted')\n",
    "        print(mean_qpd, mean_cqpd)\n",
    "\n",
    "\n",
    "ax_tiwp.set_xlim(0, 0.0025)\n",
    "ax_tiwc.set_xlim(0.0005, 0)\n",
    "ax_tiwc.grid(visible=False)\n",
    "\n",
    "\n",
    "ax.set_ylabel('CDF')\n",
    "ax_tiwp.set_xlabel('TIWP [$\\si{\\kilo\\gram\\per\\square\\meter}$]')\n",
    "ax_tiwc.set_xlabel('TIWC [$\\si{\\gram\\per\\cubic\\meter}$]')\n",
    "\n",
    "ax.set_ylim(0, 1)\n",
    "\n",
    "legend_elements = [\n",
    "    matplotlib.lines.Line2D([0], [0], color='k', label='QPD'),\n",
    "    matplotlib.lines.Line2D([0], [0], color='k', ls='dotted', label='CQPD'),\n",
    "    matplotlib.lines.Line2D([0], [0], lw=0, marker='x', markerfacecolor='k', markeredgecolor='k', label='QRNN quantile level'),\n",
    "    #matplotlib.lines.Line2D([0], [0], lw=0, marker='|', markerfacecolor='k', markeredgecolor='k', label='$\\mathbb{E}$[QPD] or $\\mathbb{E}$[CQPD]', markersize=10),\n",
    "    matplotlib.lines.Line2D([0], [0], lw=0, marker='s', markerfacecolor='C0', markeredgecolor='C0', label='TIWP'),#label='$\\\\text{\\\\texttt{tiwp}}$'),\n",
    "    matplotlib.lines.Line2D([0], [0], lw=0, marker='s', markerfacecolor='C1', markeredgecolor='C1', label='TIWC'),#label='$\\\\text{\\\\texttt{tiwc}}$'),\n",
    "    ]\n",
    "\n",
    "ax_tiwc.legend(handles=legend_elements, loc='lower left', framealpha=0.5, handlelength=1)\n",
    "\n",
    "fig.savefig('quantile_crossing_worst_cases.pdf', bbox_inches='tight')\n",
    "\n",
    "plt.show()"
   ]
  },
  {
   "cell_type": "code",
   "execution_count": null,
   "metadata": {},
   "outputs": [],
   "source": [
    "qq_tiwp = qq.posterior_quantiles(ds.tiwp_distribution.values, ds.quantiles_tiwp.values, np.array([0.05, 0.95]), quantile_axis=1)\n",
    "print((qq_tiwp[:,0] < qq_tiwp[:,1]).all())\n",
    "qq_tiwp_fpavg = qq.posterior_quantiles(ds.tiwp_fpavg_distribution.values, ds.quantiles_tiwp.values, np.array([0.05, 0.95]), quantile_axis=1)\n",
    "print((qq_tiwp_fpavg[:,0] < qq_tiwp_fpavg[:,1]).all())\n",
    "qq_tiwc = qq.posterior_quantiles(ds.tiwc_distribution.values, ds.quantiles_tiwc.values, np.array([0.05, 0.95]), quantile_axis=2)\n",
    "print((qq_tiwc[:,:,0] < qq_tiwc[:,:,1]).all())"
   ]
  },
  {
   "cell_type": "code",
   "execution_count": null,
   "metadata": {},
   "outputs": [],
   "source": [
    "def rpd(x, x_c):\n",
    "    delta = x - x_c\n",
    "    l1_mean = (abs(x) + abs(x_c)) / 2\n",
    "    return np.divide(delta, l1_mean, out=np.zeros_like(delta), where=(np.isclose(delta, 0) == False))"
   ]
  },
  {
   "cell_type": "code",
   "execution_count": null,
   "metadata": {},
   "outputs": [],
   "source": [
    "# Mean\n",
    "tiwp_mean_qpd = qq.posterior_mean(ds.tiwp_distribution.values, ds.quantiles_tiwp.values, quantile_axis=1)\n",
    "tiwp_mean_cqpd = qq.posterior_mean(ds.tiwp_distribution_isotonic.values, ds.quantiles_tiwp.values, quantile_axis=1)\n",
    "\n",
    "d1_tiwp_mean = rpd(tiwp_mean_qpd, tiwp_mean_cqpd)\n",
    "\n",
    "tiwp_fpavg_mean_qpd = qq.posterior_mean(ds.tiwp_fpavg_distribution.values, ds.quantiles_tiwp.values, quantile_axis=1)\n",
    "tiwp_fpavg_mean_cqpd = qq.posterior_mean(ds.tiwp_fpavg_distribution_isotonic.values, ds.quantiles_tiwp.values, quantile_axis=1)\n",
    "\n",
    "d1_tiwp_fpavg_mean = rpd(tiwp_fpavg_mean_qpd, tiwp_fpavg_mean_cqpd)\n",
    "\n",
    "tiwc_mean_qpd = qq.posterior_mean(ds.tiwc_distribution.values, ds.quantiles_tiwc.values, quantile_axis=2)\n",
    "tiwc_mean_cqpd = qq.posterior_mean(ds.tiwc_distribution_isotonic.values, ds.quantiles_tiwc.values, quantile_axis=2)\n",
    "\n",
    "d1_tiwc_mean = rpd(tiwc_mean_qpd, tiwc_mean_cqpd)\n",
    "\n",
    "# 90% CI\n",
    "tiwp_90ci_qpd = qq.posterior_quantiles(ds.tiwp_distribution.values, ds.quantiles_tiwp.values, np.array([0.05, 0.90]), quantile_axis=1)\n",
    "tiwp_90ci_cqpd = qq.posterior_quantiles(ds.tiwp_distribution_isotonic.values, ds.quantiles_tiwp.values, np.array([0.05, 0.90]), quantile_axis=1)\n",
    "\n",
    "d1_tiwp_90ci = rpd(tiwp_90ci_qpd, tiwp_90ci_cqpd)\n",
    "\n",
    "tiwp_fpavg_90ci_qpd = qq.posterior_quantiles(ds.tiwp_fpavg_distribution.values, ds.quantiles_tiwp.values, np.array([0.05, 0.90]), quantile_axis=1)\n",
    "tiwp_fpavg_90ci_cqpd = qq.posterior_quantiles(ds.tiwp_fpavg_distribution_isotonic.values, ds.quantiles_tiwp.values, np.array([0.05, 0.90]), quantile_axis=1)\n",
    "\n",
    "d1_tiwp_fpavg_90ci = rpd(tiwp_fpavg_90ci_qpd, tiwp_fpavg_90ci_cqpd)\n",
    "\n",
    "tiwc_90ci_mean_qpd = qq.posterior_quantiles(ds.tiwc_distribution.values, ds.quantiles_tiwc.values, np.array([0.05, 0.90]), quantile_axis=2)\n",
    "tiwc_90ci_mean_cqpd = qq.posterior_quantiles(ds.tiwc_distribution_isotonic.values, ds.quantiles_tiwc.values, np.array([0.05, 0.90]), quantile_axis=2)\n",
    "\n",
    "d1_tiwc_90ci = rpd(tiwc_90ci_mean_qpd, tiwc_90ci_mean_cqpd)\n",
    "\n",
    "# Probability larger than 1e-3 kg/m2\n",
    "p_tiwp_qpd = qq.probability_larger_than(ds.tiwp_distribution.values, ds.quantiles_tiwp.values, 1e-3, 1)\n",
    "p_tiwp_cqpd = qq.probability_larger_than(ds.tiwp_distribution_isotonic.values, ds.quantiles_tiwp.values, 1e-3, 1)\n",
    "\n",
    "d1_p_tiwp = rpd(p_tiwp_qpd, p_tiwp_cqpd)\n",
    "\n",
    "p_tiwp_fpavg_qpd = qq.probability_larger_than(ds.tiwp_fpavg_distribution.values, ds.quantiles_tiwp.values, 1e-3, 1)\n",
    "p_tiwp_fpavg_cqpd = qq.probability_larger_than(ds.tiwp_fpavg_distribution_isotonic.values, ds.quantiles_tiwp.values, 1e-3, 1)\n",
    "\n",
    "d1_p_tiwp_fpavg = rpd(p_tiwp_fpavg_qpd, p_tiwp_fpavg_cqpd)"
   ]
  },
  {
   "cell_type": "code",
   "execution_count": null,
   "metadata": {},
   "outputs": [],
   "source": [
    "fig, axs = plt.subplots(nrows=4, ncols=3)\n",
    "\n",
    "axs[0,0].hist(d1_tiwp_mean, bins=np.linspace(-np.max(abs(d1_tiwp_mean)), np.max(abs(d1_tiwp_mean)), 25))\n",
    "\n",
    "axs[0,1].hist(d1_tiwp_fpavg_mean, bins=np.linspace(-np.max(abs(d1_tiwp_fpavg_mean)), np.max(abs(d1_tiwp_fpavg_mean)), 25))\n",
    "\n",
    "axs[0,2].hist(d1_tiwc_mean.flatten(), bins=np.linspace(-np.max(abs(d1_tiwc_mean)), np.max(abs(d1_tiwc_mean)), 25))\n",
    "\n",
    "axs[1,0].hist(d1_tiwp_90ci[...,0], bins=np.linspace(-np.max(abs(d1_tiwp_90ci[...,0])), np.max(abs(d1_tiwp_90ci[...,0])), 25))\n",
    "\n",
    "axs[1,1].hist(d1_tiwp_fpavg_90ci[...,0], bins=np.linspace(-np.max(abs(d1_tiwp_fpavg_90ci[...,0])), np.max(abs(d1_tiwp_fpavg_90ci[...,0])), 25))\n",
    "\n",
    "axs[1,2].hist(d1_tiwc_90ci[...,0].flatten(), bins=np.linspace(-np.max(abs(d1_tiwc_90ci[...,0])), np.max(abs(d1_tiwc_90ci[...,0])), 25))\n",
    "\n",
    "axs[2,0].hist(d1_tiwp_90ci[...,1], bins=np.linspace(-np.max(abs(d1_tiwp_90ci[...,1])), np.max(abs(d1_tiwp_90ci[...,1])), 25))\n",
    "\n",
    "axs[2,1].hist(d1_tiwp_fpavg_90ci[...,1], bins=np.linspace(-np.max(abs(d1_tiwp_fpavg_90ci[...,1])), np.max(abs(d1_tiwp_fpavg_90ci[...,1])), 25))\n",
    "\n",
    "axs[2,2].hist(d1_tiwc_90ci[...,1].flatten(), bins=np.linspace(-np.max(abs(d1_tiwc_90ci[...,1])), np.max(abs(d1_tiwc_90ci[...,1])), 25))\n",
    "\n",
    "axs[3,0].hist(d1_p_tiwp, bins=np.linspace(-np.max(abs(d1_p_tiwp)), np.max(abs(d1_p_tiwp)), 25))\n",
    "\n",
    "axs[3,1].hist(d1_p_tiwp_fpavg, bins=np.linspace(-np.max(abs(d1_p_tiwp_fpavg)), np.max(abs(d1_p_tiwp_fpavg)), 25))\n",
    "\n",
    "fig.tight_layout()\n",
    "plt.show()"
   ]
  },
  {
   "cell_type": "code",
   "execution_count": null,
   "metadata": {},
   "outputs": [],
   "source": [
    "d1_dict = {\n",
    "    'd1_tiwp_mean': d1_tiwp_mean,\n",
    "    'd1_tiwp_fpavg_mean': d1_tiwp_fpavg_mean,\n",
    "    # 'd1_tiwc_mean.flatten()': d1_tiwc_mean.flatten(),\n",
    "    'd1_tiwp_90ci[...,0]': d1_tiwp_90ci[...,0],\n",
    "    'd1_tiwp_fpavg_90ci[...,0]': d1_tiwp_fpavg_90ci[...,0],\n",
    "    'd1_tiwp_90ci[...,0]': d1_tiwp_90ci[...,0],\n",
    "    'd1_tiwp_fpavg_90ci[...,0]': d1_tiwp_fpavg_90ci[...,0],\n",
    "    # 'd1_tiwc_90ci[...,0].flatten()': d1_tiwc_90ci[...,0].flatten(),\n",
    "    'd1_tiwp_90ci[...,1]': d1_tiwp_90ci[...,1],\n",
    "    'd1_tiwp_fpavg_90ci[...,1]': d1_tiwp_fpavg_90ci[...,1],\n",
    "    # 'd1_tiwc_90ci[...,1].flatten()': d1_tiwc_90ci[...,1].flatten(),\n",
    "    'd1_p_tiwp': d1_p_tiwp,\n",
    "    'd1_p_tiwp_fpavg': d1_p_tiwp_fpavg,\n",
    "}"
   ]
  },
  {
   "cell_type": "code",
   "execution_count": null,
   "metadata": {},
   "outputs": [],
   "source": [
    "d1_values = np.concatenate([v for v in d1_dict.values()])"
   ]
  },
  {
   "cell_type": "code",
   "execution_count": null,
   "metadata": {},
   "outputs": [],
   "source": [
    "fig, ax = plt.subplots()\n",
    "\n",
    "ax.hist(d1_values, bins=np.linspace(-2, 2, 200), density=True)\n",
    "\n",
    "plt.show()"
   ]
  },
  {
   "cell_type": "code",
   "execution_count": null,
   "metadata": {},
   "outputs": [],
   "source": [
    "for tau in [0.0005, 0.005, 0.025, 0.05, 0.25, 0.5, 0.75, 0.95, 0.975, 0.995, 0.9995]:\n",
    "    print(f'{tau:0.4f}: {np.quantile(d1_values, tau):+0.4f}')"
   ]
  },
  {
   "cell_type": "code",
   "execution_count": null,
   "metadata": {},
   "outputs": [],
   "source": []
  }
 ],
 "metadata": {
  "kernelspec": {
   "display_name": "ccic",
   "language": "python",
   "name": "python3"
  },
  "language_info": {
   "codemirror_mode": {
    "name": "ipython",
    "version": 3
   },
   "file_extension": ".py",
   "mimetype": "text/x-python",
   "name": "python",
   "nbconvert_exporter": "python",
   "pygments_lexer": "ipython3",
   "version": "3.10.12"
  },
  "orig_nbformat": 4
 },
 "nbformat": 4,
 "nbformat_minor": 2
}
